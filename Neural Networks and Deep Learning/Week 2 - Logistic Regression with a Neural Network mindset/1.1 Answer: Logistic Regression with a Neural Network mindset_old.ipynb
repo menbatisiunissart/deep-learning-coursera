{
 "cells": [
  {
   "cell_type": "code",
   "execution_count": 1,
   "metadata": {},
   "outputs": [
    {
     "name": "stdout",
     "output_type": "stream",
     "text": [
      "Requirement already satisfied: matplotlib in /Users/Ryder/.pyenv/versions/3.9.7/lib/python3.9/site-packages (3.5.2)\n",
      "Requirement already satisfied: packaging>=20.0 in /Users/Ryder/.pyenv/versions/3.9.7/lib/python3.9/site-packages (from matplotlib) (21.3)\n",
      "Requirement already satisfied: kiwisolver>=1.0.1 in /Users/Ryder/.pyenv/versions/3.9.7/lib/python3.9/site-packages (from matplotlib) (1.4.4)\n",
      "Requirement already satisfied: python-dateutil>=2.7 in /Users/Ryder/.pyenv/versions/3.9.7/lib/python3.9/site-packages (from matplotlib) (2.8.2)\n",
      "Requirement already satisfied: pillow>=6.2.0 in /Users/Ryder/.pyenv/versions/3.9.7/lib/python3.9/site-packages (from matplotlib) (9.2.0)\n",
      "Requirement already satisfied: cycler>=0.10 in /Users/Ryder/.pyenv/versions/3.9.7/lib/python3.9/site-packages (from matplotlib) (0.11.0)\n",
      "Requirement already satisfied: numpy>=1.17 in /Users/Ryder/.pyenv/versions/3.9.7/lib/python3.9/site-packages (from matplotlib) (1.22.4)\n",
      "Requirement already satisfied: fonttools>=4.22.0 in /Users/Ryder/.pyenv/versions/3.9.7/lib/python3.9/site-packages (from matplotlib) (4.34.4)\n",
      "Requirement already satisfied: pyparsing>=2.2.1 in /Users/Ryder/.pyenv/versions/3.9.7/lib/python3.9/site-packages (from matplotlib) (3.0.9)\n",
      "Requirement already satisfied: six>=1.5 in /Users/Ryder/.local/lib/python3.9/site-packages (from python-dateutil>=2.7->matplotlib) (1.16.0)\n",
      "\u001b[33mWARNING: You are using pip version 21.2.3; however, version 22.2.1 is available.\n",
      "You should consider upgrading via the '/Users/Ryder/.pyenv/versions/3.9.7/bin/python -m pip install --upgrade pip' command.\u001b[0m\n",
      "Requirement already satisfied: h5py in /Users/Ryder/.pyenv/versions/3.9.7/lib/python3.9/site-packages (3.7.0)\n",
      "Requirement already satisfied: numpy>=1.14.5 in /Users/Ryder/.pyenv/versions/3.9.7/lib/python3.9/site-packages (from h5py) (1.22.4)\n",
      "\u001b[33mWARNING: You are using pip version 21.2.3; however, version 22.2.1 is available.\n",
      "You should consider upgrading via the '/Users/Ryder/.pyenv/versions/3.9.7/bin/python -m pip install --upgrade pip' command.\u001b[0m\n",
      "Requirement already satisfied: scipy in /Users/Ryder/.pyenv/versions/3.9.7/lib/python3.9/site-packages (1.8.1)\n",
      "Requirement already satisfied: numpy<1.25.0,>=1.17.3 in /Users/Ryder/.pyenv/versions/3.9.7/lib/python3.9/site-packages (from scipy) (1.22.4)\n",
      "\u001b[33mWARNING: You are using pip version 21.2.3; however, version 22.2.1 is available.\n",
      "You should consider upgrading via the '/Users/Ryder/.pyenv/versions/3.9.7/bin/python -m pip install --upgrade pip' command.\u001b[0m\n"
     ]
    }
   ],
   "source": [
    "import sys\n",
    "!{sys.executable} -m pip install matplotlib\n",
    "!{sys.executable} -m pip install h5py\n",
    "!{sys.executable} -m pip install scipy\n",
    "\n",
    "import numpy as np\n",
    "import matplotlib.pyplot as plt\n",
    "import h5py\n",
    "import scipy\n",
    "from PIL import Image\n",
    "from scipy import ndimage\n",
    "\n",
    "\n",
    "def load_dataset():\n",
    "    train_ds = h5py.File('./dataset/train_catvnoncat.h5', 'r')\n",
    "    train_set_x = np.array(train_ds['train_set_x'][:])\n",
    "    train_set_y = np.array(train_ds['train_set_y'][:])\n",
    "    \n",
    "    test_ds = h5py.File('./dataset/test_catvnoncat.h5', 'r')\n",
    "    test_set_x = np.array(test_ds['test_set_x'][:])\n",
    "    test_set_y = np.array(test_ds['test_set_y'][:])\n",
    "    \n",
    "    classes = np.array(test_ds['list_classes'][:])\n",
    "    \n",
    "    train_set_y = train_set_y.reshape((1, train_set_y.shape[0]))\n",
    "    test_set_y = test_set_y.reshape((1, test_set_y.shape[0]))\n",
    "    \n",
    "    return train_set_x, train_set_y, test_set_x, test_set_y, classes\n",
    "\n",
    "%matplotlib inline"
   ]
  }
 ],
 "metadata": {
  "kernelspec": {
   "display_name": "Python 3.9.7 64-bit ('3.9.7')",
   "language": "python",
   "name": "python3"
  },
  "language_info": {
   "codemirror_mode": {
    "name": "ipython",
    "version": 3
   },
   "file_extension": ".py",
   "mimetype": "text/x-python",
   "name": "python",
   "nbconvert_exporter": "python",
   "pygments_lexer": "ipython3",
   "version": "3.9.7"
  },
  "orig_nbformat": 4,
  "vscode": {
   "interpreter": {
    "hash": "4a21867cd41ffb23bda694c033e6f88e4558415a85a714dd26e1c989f4b37f1b"
   }
  }
 },
 "nbformat": 4,
 "nbformat_minor": 2
}
